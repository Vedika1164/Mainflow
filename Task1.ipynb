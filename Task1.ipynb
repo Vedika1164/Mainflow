# Import Libraries
import numpy as np
import pandas as pd
import matplotlib.pyplot as plt
import seaborn as sns
# Task 1: Data Loading
# Load the dataset
data=pd.read_csv("D:\\MainFlow\\Task1\\student-mat-separated.csv")
# Display the first few rows
data.head(10)
# Task 2: Data Exploration
# Check for missing values
print(data.isnull().sum())
# Display column data types
print(data.dtypes)
# Understand the dataset size
print(data.shape)
# Task 3: Data Cleaning
# Handle missing values (replace with median or remove rows)
data.fillna(data.median(numeric_only=True), inplace=True)
# Remove duplicate entries
data = data.drop_duplicates()
# Confirm cleaning steps
print("\nMissing values after cleaning:")
print(data.isnull().sum())
print("\nDataset size after cleaning (rows, columns):")
print(data.shape)
# Task 4: Data Analysis Questions
# 1. What is the average score in math (G3)?
average_g3 = data['G3'].mean()
print(f"\nAverage score in math (G3): {average_g3:.2f}")
# 2. How many students scored above 15 in their final grade (G3)?
students_above_15 = (data['G3'] > 15).sum()
print(f"Number of students who scored above 15 in G3: {students_above_15}")
# 3. Is there a correlation between study time and the final grade (G3)?
correlation_study_time_g3 = data['studytime'].corr(data['G3'])
print(f"Correlation between study time and G3: {correlation_study_time_g3:.2f}")
# 4. Which gender has a higher average final grade (G3)?
average_g3_by_gender = data.groupby('sex')['G3'].mean()
print("\nAverage final grade (G3) by gender:")
print(average_g3_by_gender)
gender_with_higher_g3 = average_g3_by_gender.idxmax()
print(f"Gender with the higher average final grade (G3): {gender_with_higher_g3}")
